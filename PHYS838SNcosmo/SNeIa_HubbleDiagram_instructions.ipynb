{
  "cells": [
    {
      "cell_type": "markdown",
      "metadata": {
        "id": "view-in-github",
        "colab_type": "text"
      },
      "source": [
        "<a href=\"https://colab.research.google.com/github/fedhere/FASTlab/blob/master/PHYS838SNcosmo/SNeIa_HubbleDiagram_instructions.ipynb\" target=\"_parent\"><img src=\"https://colab.research.google.com/assets/colab-badge.svg\" alt=\"Open In Colab\"/></a>"
      ]
    },
    {
      "cell_type": "markdown",
      "source": [
        "# Exercise  – Fit an Hubble Diagram\n",
        "Originally from \n",
        "https://supernovae.in2p3.fr/sdss_snls_jla/ReadMe.html\n",
        "Edited by @fedhere for PHYS 838 Galaxies and Cosmology UD 2023\n",
        "\n",
        "_This notebook is not complete - you need to fill in code in four places for it to work - look for where it says \"replace with your code here\"_ \n",
        "\n",
        "You can check your results against the solution notebook in the repository https://github.com/fedhere/FASTlab/blob/master/PHYS838SNcosmo/SNeIa_HubbleDiagram_solution.ipynb\n",
        "\n",
        "## The SN Ia Science in short\n",
        "\n",
        "The Type Ia Supernova event is the thermonuclear runaway of a white dwarf. This bright event is extremely stable and the maximum of luminosity of any explosion reaches roughly the same maximum magnitude `M0`. Two additional parameters: the speed of evolution of the explosion `x1` (also called stretch) and the color of the event `color` enable to further standardize the SN maximum of luminosity. Thanks to the statibility of the absolute SN magnitude, the observation of the effective SN magnitude is a direct indication of the event's distance. Combined with the redshift measurement of the Supernovae -the redshift tracing the overall expansion of the Universe since the SN event- we can measurment the history of the expansion of the Universe. The magnitude vs. redshift plot is called an Hubble Diagram and the Hubble diagram of the SNe Ia enabled the discovery of the accelerated expansion of the Universe in 1999, and thereby of the existance of dark energy (Noble 2011)\n",
        "\n",
        "## Data you have to measures the density Dark Energy\n",
        "\n",
        "The latest compilation of Type Ia Supernovae Data has ~1000 SN Ia distance measurements. The data are registered\n",
        "in \n",
        "\n",
        "`jla_lcparams.txt`\n",
        "\n",
        "## The Model\n",
        "\n",
        "In this example we will use the most straightforward analysis. The stretch and color corrected magnitude of the SNe Ia is:\n",
        "\n",
        "$$\n",
        "mb_{corr} = mb - (x1 \\times \\alpha - color \\times \\beta)\n",
        "$$\n",
        "\n",
        "The expected magnitude of the SNe Ia is:\n",
        "\n",
        "$$\n",
        "mb_{expected} = \\mu \\left(z, \\Omega \\right) + M_0\n",
        "$$\n",
        "\n",
        "where $\\mu\\left(z, \\Omega \\right)$ is the distance modulus (distance in log scale) for a given cosmology. To have access to $\\mu$ use `astropy`. \n",
        "\n",
        "In the flat Lambda CDM model, the only free cosmological parameter you can fit is `Omega_m`, the density of matter today, knowing that, in that case, the density of dark energy is `1-Omega_m`\n",
        "\n",
        "#### Astropy\n",
        "\n",
        "The website with all the information is here http://www.astropy.org/\n",
        "\n",
        "On colab you can access astropy by typing \n",
        "`pip install astropy` \n",
        "\n",
        "To get the cosmology for an Hubble Constant of 70 (use that) and for a given density of matter (Omega_m, which will be one of your free parameter):\n",
        "```python\n",
        "from astropy import cosmology\n",
        "cosmo = cosmology.FlatLambdaCDM(70, Omega_m)\n",
        "```\n",
        "To get the distance modulus\n",
        "```python\n",
        "from astropy import cosmology\n",
        "mu = cosmology.FlatLambdaCDM(70, Omega_m).distmod(z).value\n",
        "```\n",
        "\n",
        "\n",
        "\n",
        "\n",
        "## Your Job: find the density of Dark energy\n",
        "\n",
        "Create a Chi2 fitting class that enables to derive the density of dark energy. You should find `Omega_m~0.3` so a universe composed of ~70% of dark energy and 30% of matter\n",
        "\n",
        "Plot an Hubble diagram showing the corrected SN mangitude (`mb_corr`) as a function of the redshift (`zcmb`). Overplot the model. \n",
        "\n",
        "**Remark** `alpha` `beta` and `M0` have to be fitted together with the cosmology, we call that 'nuisance parameters'\n",
        "\n",
        "**Remark 2** ignore errors on the redshift (`z`), but take into account errors on `mb` and on the `x1` and `color` parameters. For this example ignore the covariance terms."
      ],
      "metadata": {
        "cell_id": "aa02c7d9b9024591abf3f0a4d69099b2",
        "deepnote_cell_type": "markdown",
        "id": "3EceA3EJJlLm"
      }
    },
    {
      "cell_type": "markdown",
      "source": [
        "***\n",
        "# Correction \n",
        "***"
      ],
      "metadata": {
        "cell_id": "0639607acf3542e791497deb5a989955",
        "deepnote_cell_type": "markdown",
        "id": "m3br5TmGJlLp"
      }
    },
    {
      "cell_type": "code",
      "source": [
        "import warnings\n",
        "# No annoying warnings\n",
        "warnings.filterwarnings('ignore')\n",
        "# Because we always need that\n",
        "# plot within the notebook\n",
        "# %matplotlib inline dont need on colab\n",
        "import numpy as np\n",
        "import matplotlib.pyplot as mpl"
      ],
      "metadata": {
        "cell_id": "182b61ff03034fd6aefb2979df354735",
        "collapsed": true,
        "deepnote_cell_type": "code",
        "id": "z_k86tKgJlLq"
      },
      "outputs": [],
      "execution_count": null
    },
    {
      "cell_type": "markdown",
      "source": [
        "## First Steps access the Data\n",
        "\n",
        "#### Import for the cosmological analysis (an also the convenient table)"
      ],
      "metadata": {
        "cell_id": "d4cc0665ca50419882e0e8fdaa130d39",
        "deepnote_cell_type": "markdown",
        "id": "OXphPoqYJlLq"
      }
    },
    {
      "cell_type": "code",
      "source": [
        "from astropy import table, cosmology"
      ],
      "metadata": {
        "cell_id": "70b473103df7410db9decef02eb8e4eb",
        "collapsed": true,
        "deepnote_cell_type": "code",
        "id": "9zBajekFJlLq"
      },
      "outputs": [],
      "execution_count": null
    },
    {
      "cell_type": "markdown",
      "source": [
        "#### Read the data"
      ],
      "metadata": {
        "cell_id": "ae3b51f0b74c48409803aad4c8fdbb5e",
        "deepnote_cell_type": "markdown",
        "id": "WeCXM4VTJlLr"
      }
    },
    {
      "cell_type": "code",
      "source": [
        "data = table.Table.read(\"https://raw.githubusercontent.com/fedhere/FASTlab/master/PHYS838SNcosmo/jla_lcparams.txt\", format=\"ascii\")"
      ],
      "metadata": {
        "cell_id": "a2ce786acbb74fa1b32be1217e351577",
        "deepnote_cell_type": "code",
        "id": "wabGAHNlJlLr"
      },
      "outputs": [],
      "execution_count": null
    },
    {
      "cell_type": "code",
      "source": [
        "data"
      ],
      "metadata": {
        "id": "N6JGhfW2J8Ey"
      },
      "execution_count": null,
      "outputs": []
    },
    {
      "cell_type": "code",
      "source": [
        "data.colnames"
      ],
      "metadata": {
        "cell_id": "bf4f29ed17844ce4956870506376759e",
        "deepnote_cell_type": "code",
        "id": "G15WhwadJlLr"
      },
      "outputs": [],
      "execution_count": null
    },
    {
      "cell_type": "markdown",
      "source": [
        "For each SN there is a set of values that are fit to the lightcurve. This is a highly dimenz=sional space ofr a fit! (note: normally tmax date of maximum is also fit...)\n",
        "\n",
        "*name*: name of the SN, NOT A PARAMETER\n",
        "\n",
        "*zcmb*: CMB frame redshift (including peculiar velocity corrections for nearby supernova based on the models of M.J. Hudson)\n",
        "\n",
        "_zhel_: Heliocentric redshift (note both zcmb and zhel are needed to compute the luminosity distance)\n",
        "\n",
        "_dz_: redshift error ALL d-quantities are errors on fit quantities\n",
        "\n",
        "_mb_: B band peak magnitude\n",
        "\n",
        "_dmb_: Error in mb (includes contributions from intrinsic dispersion, lensing, and redshift uncertainty)\n",
        "\n",
        "_x1_: SALT2 shape parameter \n",
        "_dx1_: Error in shape parameter\n",
        "\n",
        "_colour_: Colour parameter\n",
        "_dcolour_: Error in colour\n",
        "\n",
        "_3rdvar_: In these files, the log_10 host stellar mass\n",
        "_d3rdvar_: Error in 3rdvar\n",
        "\n",
        "*cov_m_s*: The covariance between mb and x1\n",
        "\n",
        "*cov_m_c*: The covariance between mb and colour\n",
        "\n",
        "*cov_s_c*: The covariance between x1 and colour\n",
        "\n",
        "*set*: A number indicating which sample this SN belongs to, NOT A PARAMETER with\n",
        "\n",
        "     1 - SNLS, \n",
        "     2 - SDSS, \n",
        "     3 - low-z, \n",
        "     4 - Riess HST\n",
        "\n",
        "_ra_: Right Ascension in degree (J2000), NOT A PARAMETER\n",
        "\n",
        "_dec_: Declination in degree (J2000), NOT A PARAMETER\n",
        "\n",
        "_biascor_: The correction for analysis bias applied to measured magnitudes (this correction is already applied to mb, original measurements can be obtained by subtracting this term to mb), NOT A PARAMETER"
      ],
      "metadata": {
        "id": "5c9byGn4LZ3Y"
      }
    },
    {
      "cell_type": "markdown",
      "source": [
        "## The Chi2 Method\n",
        "\n",
        "an introduction of the \"property\" and \"setter\" decorators\n",
        "\n",
        "decorators are kind-of functions of function.\n",
        " \n",
        "Check e.g., http://thecodeship.com/patterns/guide-to-python-function-decorators/"
      ],
      "metadata": {
        "cell_id": "74d2d3ccc9514e609a708ed25303ea42",
        "deepnote_cell_type": "markdown",
        "id": "d1wQH6tNJlLr"
      }
    },
    {
      "cell_type": "code",
      "source": [
        "# copy paste of a class build before\n",
        "\n",
        "class Chi2Fit( object ):\n",
        "    \n",
        "    def __init__(self, jla_data=None):\n",
        "        \"\"\" init the class\n",
        "        \n",
        "        Parameters:\n",
        "        -----------\n",
        "        jla_data: [astropy.table]\n",
        "            Astropy Table containing the Supernovae properties\n",
        "            (zcmb, mb, x1, color etc.)\n",
        "        \n",
        "        Return\n",
        "        ------\n",
        "        Void\n",
        "        \"\"\"\n",
        "        if jla_data is not None:\n",
        "            self.set_data(jla_data)\n",
        "\n",
        "    # ------------------- #\n",
        "    #   Setter            #\n",
        "    # ------------------- #        \n",
        "    def set_data(self, datatable):\n",
        "        \"\"\" Set the data of the class. This must be an astropy table \"\"\"\n",
        "        # use this tricks to forbid the user to overwrite self.data...\n",
        "        self._data = datatable\n",
        "\n",
        "    def setup(self, parameters):\n",
        "        \"\"\" Set the parameters of the class: \n",
        "        - alpha #\n",
        "        - beta #\n",
        "        - Om # Omega Matter\n",
        "        - M0 # \n",
        "        \"\"\"\n",
        "        self._parameters = parameters  \n",
        "        \n",
        "    # ------------------- #\n",
        "    #   GETTER            #\n",
        "    # ------------------- #\n",
        "    def get_mbcorr(self, parameters):\n",
        "        \"\"\" corrected sn magnitude with its associated variance\"\"\"\n",
        "        return self.mb - (self.x1*parameters[0] + self.color*parameters[1]),\\\n",
        "            self.mb_err**2 + (self.x1*parameters[0])**2 + (self.color*parameters[1])**2\n",
        "    \n",
        "    def get_mbexp(self, parameters, z=None):\n",
        "        \"\"\" corrected sn magnitude with its associated error\"\"\"\n",
        "        zused = z if z is not None else self.zcmb\n",
        "        return cosmology.FlatLambdaCDM(70, parameters[2]).distmod(zused ).value + parameters[3]\n",
        "        \n",
        "    \n",
        "    def fit(self, guess):\n",
        "        \"\"\" fit the model to the data \n",
        "        \n",
        "        The methods uses scipy.optimize.minize to fit the model \n",
        "        to the data. The fit output is saved as self.fitout, the \n",
        "        best fit parameters being self.fitout[\"x\"]\n",
        "        \n",
        "        Parameters\n",
        "        ----------\n",
        "        guess: [array]\n",
        "            initial guess for the minimizer. It's size must correspond\n",
        "            to the amount of free parameters of the model.\n",
        "            \n",
        "        Return\n",
        "        ------\n",
        "        Void (create self.fitout)\n",
        "        \"\"\"\n",
        "        from scipy.optimize import minimize\n",
        "        bounds = [[None, None], [None, None], [0, None], [None, None]]\n",
        "        \"\"\"CAN YOU FIGURE OUT HOW TO USE scipy.minimize() TO GET THE BEST VALUES?\"\"\"\n",
        "        ... #replace with your code\n",
        "        \n",
        "        self._bestfitparameters = self.fitout[\"x\"]\n",
        " \n",
        "    def chi2(self,parameters):\n",
        "        \"\"\" The chi2 of the model with the given `parameters` \n",
        "        in comparison to the object's data \n",
        "        \n",
        "        Return\n",
        "        ------\n",
        "        float (the chi2)\n",
        "        \"\"\"\n",
        "        \"\"\" KNOWING chi2 is Sum_i(model_i - data_i)^2 / variance_i\n",
        "        AND THAT THE FUNCTION self.get_mbcorr(parameters) \n",
        "        GIVES YOU THE MODEL AND THE VARIANCE YOU NEED, \n",
        "        WHAT IS THE FUNCTION YOU WANT OT MINIMIZE? \n",
        "        SET THE RETURN VALUE OF THIS FUNCTION TO IT\"\"\"\n",
        "\n",
        "        ... #replace with your code\n",
        "        \n",
        "        return np.sum(chi2)\n",
        "    \n",
        "    def plot(self, parameters):\n",
        "        \"\"\" Vizualize the data and the model for the given\n",
        "        parameters\n",
        "        \n",
        "        Return\n",
        "        ------\n",
        "        Void\n",
        "        \"\"\"\n",
        "        fig = mpl.figure()\n",
        "        ax = fig.add_subplot(1,1,1)\n",
        "        \n",
        "        self.setup(parameters)\n",
        "        set_colors = {\n",
        "            1: \"SteelBlue\",\n",
        "            2: \"green\",\n",
        "            3: \"IndianRed\",\n",
        "            4: \"gold\",\n",
        "        }\n",
        "        set_names = {\n",
        "            1:\"SNLS\", \n",
        "            2:\"SDSS\", \n",
        "            3:\"low-z\", \n",
        "            4:\"Riess HST\"\n",
        "        }\n",
        "        for eachset in set(self.sample):\n",
        "      \n",
        "            ax.errorbar(self.zcmb[self.sample == eachset], self.setted_mbcorr[self.sample == eachset], # plotting corrected hubble residuals\n",
        "                    yerr=self.setted_mbcorr_err[self.sample == eachset], \n",
        "                    ls=\"None\", marker='o', color=set_colors[eachset], alpha=0.5,\n",
        "                    ecolor=\"0.7\", label=set_names[eachset])\n",
        "        x = np.linspace(0.001,1.4,10000)\n",
        "            #print self.get_cosmo_distmod(parameters,x)\n",
        "        ax.plot(x, self.get_mbexp(self._parameters, x), '--r', scalex=False, scaley=False)\n",
        "        \"\"\" WHAT ARE THE RIGHT LABELS?\"\"\"\n",
        "        ax.set_xlabel... #replace with your code\n",
        "        ax.set_ylabel... #replace with your code\n",
        "\n",
        "        mpl.legend()\n",
        "        fig.show()\n",
        "\n",
        "        # LOG X\n",
        "        fig = mpl.figure()\n",
        "        ax = fig.add_subplot(1,1,1)\n",
        "        \n",
        "        self.setup(parameters)\n",
        "        \n",
        "        for eachset in set(self.sample):\n",
        "      \n",
        "            ax.errorbar(self.zcmb[self.sample == eachset], self.setted_mbcorr[self.sample == eachset], # plotting corrected hubble residuals\n",
        "                    yerr=self.setted_mbcorr_err[self.sample == eachset], \n",
        "                    ls=\"None\", marker='o', color=set_colors[eachset], alpha=0.5,\n",
        "                    ecolor=\"0.7\", label=set_names[eachset])\n",
        "        x = np.linspace(0.001,1.4,10000)\n",
        "            #print self.get_cosmo_distmod(parameters,x)\n",
        "        ax.plot(x, self.get_mbexp(self._parameters, x), '--r', scalex=False, scaley=False)\n",
        "        \"\"\" WHAT ARE THE RIGHT LABELS?\"\"\"\n",
        "        ax.set_xlabel(\"z (CMB)\")\n",
        "        ax.set_ylabel(\"distance modulus\")\n",
        "        ax.set_xscale('log')\n",
        "        fig.show()\n",
        "        \n",
        "        \n",
        "    # ================== #\n",
        "    #  Properties        #\n",
        "    # ================== #\n",
        "    @property\n",
        "    def data(self):\n",
        "        \"\"\" Data table containing the data of the instance \"\"\"\n",
        "        return self._data\n",
        "\n",
        "    @data.setter\n",
        "    def data(self, newdata):\n",
        "        \"\"\" Set the data \"\"\"\n",
        "        # add all the relevant tests\n",
        "        print(\"You have set new data\")\n",
        "        self._data = newdata\n",
        "    \n",
        "    @property\n",
        "    def npoints(self):\n",
        "        \"\"\" number of data points \"\"\"\n",
        "        return len(self.data)\n",
        "    \n",
        "    # ----------\n",
        "    # - Parameters\n",
        "    \n",
        "    @property\n",
        "    def parameters(self):\n",
        "        \"\"\" Current parameters of the fit \"\"\"\n",
        "        if not self.has_parameters():\n",
        "            raise ValueError(\"No Parameters defined. See the self.setup() method\")\n",
        "        return self._parameters\n",
        "    \n",
        "    def has_parameters(self):\n",
        "        return \"_parameters\" in dir(self)\n",
        "    \n",
        "    \n",
        "    \n",
        "    \n",
        "    # -- Current Param prop\n",
        "    @property\n",
        "    def _alpha(self):\n",
        "        return self._parameters[0]\n",
        "    @property\n",
        "    def _beta(self):\n",
        "        return self._parameters[1]\n",
        "    @property\n",
        "    def _omegam(self):\n",
        "        return self._parameters[2]\n",
        "    @property\n",
        "    def _M0(self):\n",
        "        return self._parameters[3]\n",
        "    \n",
        "    # -------\n",
        "    # -- Param derived properties\n",
        "    @property\n",
        "    def setted_mbcorr(self):\n",
        "        \"\"\" corrected hubble residuals\"\"\"\n",
        "        return self.get_mbcorr(self.parameters)[0]\n",
        "    @property\n",
        "    def setted_mbcorr_err(self):\n",
        "        \"\"\" corrected hubble residuals\"\"\"\n",
        "        return np.sqrt(self.get_mbcorr(self.parameters)[1])\n",
        "    \n",
        "    @property\n",
        "    def setted_mu(self):\n",
        "        \"\"\" distance modulus for the given cosmology \"\"\"\n",
        "        return cosmology.FlatLambdaCDM(70, _omegam).distmod(self.zcmb).value\n",
        "    \n",
        "    @property\n",
        "    def setted_M0(self):\n",
        "        \"\"\" absolute SN magnitude for the setted parameters \"\"\"\n",
        "        return self._M0\n",
        "    \n",
        "    @property\n",
        "    def setted_mbexp(self):\n",
        "        return self.setted_mu + self._M0\n",
        "    # -------\n",
        "    # -- Data derived properties\n",
        "    @property\n",
        "    def mb(self):\n",
        "        \"\"\" observed magnitude (in the b-band) of the Supernovae \"\"\"\n",
        "        return self.data[\"mb\"]\n",
        "    \n",
        "    @property\n",
        "    def mb_err(self):\n",
        "        \"\"\" observed magnitude (in the b-band) of the Supernovae \"\"\"\n",
        "        return self.data[\"dmb\"]\n",
        "    \n",
        "    @property\n",
        "    def x1(self):\n",
        "        \"\"\" Lightcurve stretch \"\"\"\n",
        "        return self.data[\"x1\"]\n",
        "    \n",
        "    @property\n",
        "    def x1_err(self):\n",
        "        \"\"\" errors on the Lightcurve stretch \"\"\"\n",
        "        return self.data[\"dx1\"]\n",
        "        \n",
        "    @property\n",
        "    def color(self):\n",
        "        \"\"\" Lightcurve color \"\"\"\n",
        "        return self.data[\"color\"]\n",
        "    \n",
        "    @property\n",
        "    def color_err(self):\n",
        "        \"\"\" errors on the Lightcurve color \"\"\"\n",
        "        return self.data[\"dcolor\"]\n",
        "    \n",
        "    @property\n",
        "    def zcmb(self):\n",
        "        \"\"\" cosmological redshift of the Supenovae \"\"\"\n",
        "        return self.data[\"zcmb\"]\n",
        "\n",
        "    @property\n",
        "    def sample(self):\n",
        "        \"\"\" observed magnitude (in the b-band) of the Supernovae \"\"\"\n",
        "        return self.data[\"set\"]\n",
        "    \n",
        "    \n",
        "    "
      ],
      "metadata": {
        "cell_id": "5c48a2d8bc7143eb82a118802cddcd30",
        "collapsed": true,
        "deepnote_cell_type": "code",
        "id": "eQ5hmfwRJlLs"
      },
      "outputs": [],
      "execution_count": null
    },
    {
      "cell_type": "code",
      "source": [
        "c = Chi2Fit(data)"
      ],
      "metadata": {
        "cell_id": "afaacb96b2fa465d915f3392143f032e",
        "deepnote_cell_type": "code",
        "id": "VeatqnCMJlLs"
      },
      "outputs": [],
      "execution_count": null
    },
    {
      "cell_type": "code",
      "source": [
        "alphapar = -0.18980149\n",
        "betapar = 3.65435315\n",
        "OmegaM = 0.32575054\n",
        "MagZP = -19.06810566\n",
        "\n",
        "c.setup([ alphapar, betapar, OmegaM, MagZP])"
      ],
      "metadata": {
        "cell_id": "c3f0ac15cb24401e98bc59ec9f75fe52",
        "deepnote_cell_type": "code",
        "id": "JAOtrKUqJlLu"
      },
      "outputs": [],
      "execution_count": null
    },
    {
      "cell_type": "code",
      "source": [
        "c.data"
      ],
      "metadata": {
        "id": "sNliR0g2LOTT"
      },
      "execution_count": null,
      "outputs": []
    },
    {
      "cell_type": "code",
      "source": [
        "c.setted_mbcorr # corrected apparent magnitude"
      ],
      "metadata": {
        "cell_id": "1f93cc88e3a54c3aacb4a0beac42c430",
        "deepnote_cell_type": "code",
        "id": "RscJpKkSJlLu"
      },
      "outputs": [],
      "execution_count": null
    },
    {
      "cell_type": "code",
      "source": [
        "print(\"\"\"Which SN samples are used?\n",
        "     1 - SNLS, \n",
        "     2 - SDSS, \n",
        "     3 - low-z, \n",
        "     4 - Riess HST\n",
        "      \"\"\")\n",
        "set(c.data[\"set\"])"
      ],
      "metadata": {
        "id": "H0cQ2SUFPxDb"
      },
      "execution_count": null,
      "outputs": []
    },
    {
      "cell_type": "code",
      "source": [
        "c.setted_M0 # Absolute Magnitude"
      ],
      "metadata": {
        "id": "rSUvDJSNOKL-"
      },
      "execution_count": null,
      "outputs": []
    },
    {
      "cell_type": "markdown",
      "source": [
        "# FIT"
      ],
      "metadata": {
        "id": "AB4GdqtEUsnQ"
      }
    },
    {
      "cell_type": "code",
      "source": [
        "c.fit([0.13, 3, 0.2, -20]) # passing some initial parameters to the function that are not so great"
      ],
      "metadata": {
        "cell_id": "b59a136b04a34cebb3aba0344dddac5a",
        "deepnote_cell_type": "code",
        "id": "YNKkDy6iJlLu"
      },
      "outputs": [],
      "execution_count": null
    },
    {
      "cell_type": "markdown",
      "source": [
        "ORIGINAL RESULT\n",
        "```\n",
        "message: CONVERGENCE: REL_REDUCTION_OF_F_<=_FACTR*EPSMCH\n",
        "  success: True\n",
        "   status: 0\n",
        "      fun: 317.79735399748114\n",
        "        x: [-1.898e-01  3.654e+00  3.259e-01 -1.907e+01]\n",
        "      nit: 33\n",
        "      jac: [-4.150e-04  2.842e-05  0.000e+00 -1.177e-03]\n",
        "     nfev: 285\n",
        "     njev: 57\n",
        "\n",
        "\n",
        "```\n",
        "\n"
      ],
      "metadata": {
        "id": "WxK3h95EkGnz"
      }
    },
    {
      "cell_type": "code",
      "source": [
        "print(\"BEST FIT PARAMS\")\n",
        "print(\"\"\"originally: \n",
        "alphapar = -0.18980149\n",
        "betapar = 3.65435315\n",
        "OmegaM = 0.32575054\n",
        "MagZP = -19.06810566\n",
        "\"\"\")\n",
        "\n",
        "print(\"\"\"initial guess:\n",
        "      \n",
        "      0.13, \n",
        "      3, \n",
        "      0.2, \n",
        "      -20\"\"\")\n",
        "\n",
        "print(\"best fit parameters\", c._bestfitparameters)\n"
      ],
      "metadata": {
        "id": "GdQ1wNlGQYil"
      },
      "execution_count": null,
      "outputs": []
    },
    {
      "cell_type": "markdown",
      "source": [
        "ORIGINAL RESULT\n",
        "\n",
        "```\n",
        "BEST FIT PARAMS\n",
        "originally: \n",
        "alphapar = -0.18980149\n",
        "betapar = 3.65435315\n",
        "OmegaM = 0.32575054\n",
        "MagZP = -19.06810566\n",
        "\n",
        "initial guess:\n",
        "      \n",
        "      0.13, \n",
        "      3, \n",
        "      0.2, \n",
        "      -20\n",
        "best fit parameters [ -0.18980153   3.65434904   0.32590185 -19.0680978 ]\n",
        "\n",
        "```\n",
        "\n"
      ],
      "metadata": {
        "id": "K9ltzjmAkPvs"
      }
    },
    {
      "cell_type": "code",
      "source": [
        "c.plot(c._bestfitparameters)"
      ],
      "metadata": {
        "cell_id": "bf1c37dee2bf40edad4de81a238fc382",
        "deepnote_cell_type": "code",
        "id": "6OZ5i8UQJlLu"
      },
      "outputs": [],
      "execution_count": null
    },
    {
      "cell_type": "markdown",
      "source": [
        "# COMPARE WITH \n",
        "\n",
        "original nb https://supernovae.in2p3.fr/sdss_snls_jla/ReadMe.html\n",
        "\n",
        "see also https://notebook.community/EliseJ/astroABC/examples/supernovae foran MCMC solution"
      ],
      "metadata": {
        "id": "yqirVAIVJlLv"
      }
    },
    {
      "cell_type": "markdown",
      "source": [
        "<a style='text-decoration:none;line-height:16px;display:flex;color:#5B5B62;padding:10px;justify-content:end;' href='https://deepnote.com?utm_source=created-in-deepnote-cell&projectId=cd5d88a9-4330-4aa9-8029-ed5e4d98d510' target=\"_blank\">\n",
        "<img alt='Created in deepnote.com' style='display:inline;max-height:16px;margin:0px;margin-right:7.5px;' src='data:image/svg+xml;base64,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' > </img>\n",
        "Created in <span style='font-weight:600;margin-left:4px;'>Deepnote</span></a>"
      ],
      "metadata": {
        "tags": [],
        "created_in_deepnote_cell": true,
        "deepnote_cell_type": "markdown",
        "id": "t_Zs2GdmJlLv"
      }
    },
    {
      "cell_type": "code",
      "source": [],
      "metadata": {
        "id": "SiZtlbgObHvZ"
      },
      "execution_count": null,
      "outputs": []
    }
  ],
  "nbformat": 4,
  "nbformat_minor": 0,
  "metadata": {
    "deepnote": {},
    "kernelspec": {
      "name": "python2",
      "language": "python",
      "display_name": "Python 2"
    },
    "language_info": {
      "name": "python",
      "version": "2.7.11",
      "mimetype": "text/x-python",
      "file_extension": ".py",
      "pygments_lexer": "ipython2",
      "codemirror_mode": {
        "name": "ipython",
        "version": 2
      },
      "nbconvert_exporter": "python"
    },
    "deepnote_notebook_id": "d98b65d7a2a04367a97c86667a1acc8a",
    "deepnote_execution_queue": [],
    "colab": {
      "provenance": [],
      "include_colab_link": true
    }
  }
}