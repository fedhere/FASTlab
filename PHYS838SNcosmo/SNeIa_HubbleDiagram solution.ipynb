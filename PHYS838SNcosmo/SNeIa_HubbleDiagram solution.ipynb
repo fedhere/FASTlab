{
  "cells": [
    {
      "cell_type": "markdown",
      "metadata": {
        "id": "view-in-github",
        "colab_type": "text"
      },
      "source": [
        "<a href=\"https://colab.research.google.com/github/fedhere/FASTlab/blob/master/PHYS838SNcosmo/SNeIa_HubbleDiagram.ipynb\" target=\"_parent\"><img src=\"https://colab.research.google.com/assets/colab-badge.svg\" alt=\"Open In Colab\"/></a>"
      ]
    },
    {
      "cell_type": "markdown",
      "source": [
        "# Exercise 8 – Fit an Hubble Diagram\n",
        "Originally from \n",
        "https://supernovae.in2p3.fr/sdss_snls_jla/ReadMe.html\n",
        "Edited by @fedhere for PHYS 838 Galaxies and Cosmology UD 2023\n",
        "\n",
        "## The SN Ia Science in short\n",
        "\n",
        "The Type Ia Supernova event is the thermonuclear runaway of a white dwarf. This bright event is extremely stable and the maximum of luminosity of any explosion reaches roughly the same maximum magnitude `M0`. Two additional parameters: the speed of evolution of the explosion `x1` (also called stretch) and the color of the event `color` enable to further standardize the SN maximum of luminosity. Thanks to the statibility of the absolute SN magnitude, the observation of the effective SN magnitude is a direct indication of the event's distance. Combined with the redshift measurement of the Supernovae -the redshift tracing the overall expansion of the Universe since the SN event- we can measurment the history of the expansion of the Universe. The magnitude vs. redshift plot is called an Hubble Diagram and the Hubble diagram of the SNe Ia enabled the discovery of the accelerated expansion of the Universe in 1999, and thereby of the existance of dark energy (Noble 2011)\n",
        "\n",
        "## Data you have to measures the density Dark Energy\n",
        "\n",
        "The latest compilation of Type Ia Supernovae Data has ~1000 SN Ia distance measurements. The data are registered\n",
        "in \n",
        "\n",
        "`jla_lcparams.txt`\n",
        "\n",
        "## The Model\n",
        "\n",
        "In this example we will use the most straightforward analysis. The stretch and color corrected magnitude of the SNe Ia is:\n",
        "\n",
        "$$\n",
        "mb_{corr} = mb - (x1 \\times \\alpha - color \\times \\beta)\n",
        "$$\n",
        "\n",
        "The expected magnitude of the SNe Ia is:\n",
        "\n",
        "$$\n",
        "mb_{expected} = \\mu \\left(z, \\Omega \\right) + M_0\n",
        "$$\n",
        "\n",
        "where $\\mu\\left(z, \\Omega \\right)$ is the distance modulus (distance in log scale) for a given cosmology. To have access to $\\mu$ use `astropy`. \n",
        "\n",
        "In the flat Lambda CDM model, the only free cosmological parameter you can fit is `Omega_m`, the density of matter today, knowing that, in that case, the density of dark energy is `1-Omega_m`\n",
        "\n",
        "#### Astropy\n",
        "\n",
        "The website with all the information is here http://www.astropy.org/\n",
        "\n",
        "On colab you can access astropy by typing \n",
        "`pip install astropy` \n",
        "\n",
        "To get the cosmology for an Hubble Constant of 70 (use that) and for a given density of matter (Omega_m, which will be one of your free parameter):\n",
        "```python\n",
        "from astropy import cosmology\n",
        "cosmo = cosmology.FlatLambdaCDM(70, Omega_m)\n",
        "```\n",
        "To get the distance modulus\n",
        "```python\n",
        "from astropy import cosmology\n",
        "mu = cosmology.FlatLambdaCDM(70, Omega_m).distmod(z).value\n",
        "```\n",
        "\n",
        "\n",
        "\n",
        "\n",
        "## Your Job: find the density of Dark energy\n",
        "\n",
        "Create a Chi2 fitting class that enables to derive the density of dark energy. You should find `Omega_m~0.3` so a universe composed of ~70% of dark energy and 30% of matter\n",
        "\n",
        "Plot an Hubble diagram showing the corrected SN mangitude (`mb_corr`) as a function of the redshift (`zcmb`). Overplot the model. \n",
        "\n",
        "**Remark** `alpha` `beta` and `M0` have to be fitted together with the cosmology, we call that 'nuisance parameters'\n",
        "\n",
        "**Remark 2** ignore errors on the redshift (`z`), but take into account errors on `mb` and on the `x1` and `color` parameters. For this example ignore the covariance terms."
      ],
      "metadata": {
        "cell_id": "aa02c7d9b9024591abf3f0a4d69099b2",
        "deepnote_cell_type": "markdown",
        "id": "3EceA3EJJlLm"
      }
    },
    {
      "cell_type": "markdown",
      "source": [
        "***\n",
        "# Correction \n",
        "***"
      ],
      "metadata": {
        "cell_id": "0639607acf3542e791497deb5a989955",
        "deepnote_cell_type": "markdown",
        "id": "m3br5TmGJlLp"
      }
    },
    {
      "cell_type": "code",
      "source": [
        "import warnings\n",
        "# No annoying warnings\n",
        "warnings.filterwarnings('ignore')\n",
        "# Because we always need that\n",
        "# plot within the notebook\n",
        "# %matplotlib inline dont need on colab\n",
        "import numpy as np\n",
        "import matplotlib.pyplot as mpl"
      ],
      "metadata": {
        "cell_id": "182b61ff03034fd6aefb2979df354735",
        "collapsed": true,
        "deepnote_cell_type": "code",
        "id": "z_k86tKgJlLq"
      },
      "outputs": [],
      "execution_count": 1
    },
    {
      "cell_type": "markdown",
      "source": [
        "## First Steps access the Data\n",
        "\n",
        "#### Import for the cosmological analysis (an also the convenient table)"
      ],
      "metadata": {
        "cell_id": "d4cc0665ca50419882e0e8fdaa130d39",
        "deepnote_cell_type": "markdown",
        "id": "OXphPoqYJlLq"
      }
    },
    {
      "cell_type": "code",
      "source": [
        "from astropy import table, cosmology"
      ],
      "metadata": {
        "cell_id": "70b473103df7410db9decef02eb8e4eb",
        "collapsed": true,
        "deepnote_cell_type": "code",
        "id": "9zBajekFJlLq"
      },
      "outputs": [],
      "execution_count": 2
    },
    {
      "cell_type": "markdown",
      "source": [
        "#### Read the data"
      ],
      "metadata": {
        "cell_id": "ae3b51f0b74c48409803aad4c8fdbb5e",
        "deepnote_cell_type": "markdown",
        "id": "WeCXM4VTJlLr"
      }
    },
    {
      "cell_type": "code",
      "source": [
        "data = table.Table.read(\"https://raw.githubusercontent.com/fedhere/FASTlab/master/PHYS838SNcosmo/jla_lcparams.txt\", format=\"ascii\")"
      ],
      "metadata": {
        "cell_id": "a2ce786acbb74fa1b32be1217e351577",
        "deepnote_cell_type": "code",
        "id": "wabGAHNlJlLr"
      },
      "outputs": [],
      "execution_count": 4
    },
    {
      "cell_type": "code",
      "source": [
        "data"
      ],
      "metadata": {
        "colab": {
          "base_uri": "https://localhost:8080/",
          "height": 548
        },
        "id": "N6JGhfW2J8Ey",
        "outputId": "8b4e6653-8bd8-423c-b34a-727a95a46c1a"
      },
      "execution_count": 5,
      "outputs": [
        {
          "output_type": "execute_result",
          "data": {
            "text/plain": [
              "<Table length=740>\n",
              "  name     zcmb     zhel       dz    ...  set      ra        dec     biascor \n",
              "  str9   float64  float64   float64  ... int64  float64    float64   float64 \n",
              "-------- -------- -------- --------- ... ----- ---------- --------- ---------\n",
              "  03D1au 0.503084   0.5043       0.0 ...     1   36.04321 -4.037469  0.001697\n",
              "  03D1aw 0.580724    0.582       0.0 ...     1  36.061634 -4.517158  0.000843\n",
              "  03D1ax 0.494795    0.496       0.0 ...     1  36.097287 -4.720774  0.001692\n",
              "  03D1bp 0.345928    0.347       0.0 ...     1  36.657235 -4.838779  -0.00027\n",
              "  03D1co 0.677662    0.679       0.0 ...     1  36.567748  -4.93505 -0.002855\n",
              "  03D1dt 0.610712    0.612       0.0 ...     1  36.629968 -4.052341   2.6e-05\n",
              "  03D1ew 0.866494    0.868       0.0 ...     1  36.058795 -4.665852 -0.017996\n",
              "  03D1fc 0.330932    0.332       0.0 ...     1  36.431648 -4.144059 -0.000526\n",
              "  03D1fq 0.798566      0.8       0.0 ...     1  36.731935 -4.302217 -0.011577\n",
              "  03D3aw 0.449562    0.449       0.0 ...     1 215.223049 52.605624    0.0014\n",
              "     ...      ...      ...       ... ...   ...        ...       ...       ...\n",
              "sn2006td 0.015999 0.015878  0.000962 ...     3   29.56567  36.34938 -0.008645\n",
              "sn2007ae 0.062961 0.064388 -0.001283 ...     3  255.46695  79.03174 -0.020277\n",
              "sn2007bc 0.021706 0.020771 -0.000177 ...     3  169.81069  20.80896  -0.00912\n",
              "sn2007bd 0.031638 0.031018 -0.000344 ...     3  127.88906  -1.19937 -0.010566\n",
              "sn2007ci 0.018599 0.018126 -0.000635 ...     3  176.44105  19.77048 -0.008829\n",
              "sn2007co 0.027064 0.026962  0.000507 ...     3    275.765  29.89705 -0.009803\n",
              "sn2007cq 0.025468 0.025918  0.000773 ...     3  333.66843   5.08016 -0.009575\n",
              " sn2007f  0.02381  0.02359 -0.000365 ...     3  195.81275  50.61876 -0.009361\n",
              "sn2007qe 0.023867    0.024  0.001031 ...     3  358.55399  27.40917 -0.009368\n",
              "sn2008bf 0.022068 0.021275 -0.000296 ...     3  181.01199  20.24508 -0.009159"
            ],
            "text/html": [
              "<div><i>Table length=740</i>\n",
              "<table id=\"table139752608494832\" class=\"table-striped table-bordered table-condensed\">\n",
              "<thead><tr><th>name</th><th>zcmb</th><th>zhel</th><th>dz</th><th>mb</th><th>dmb</th><th>x1</th><th>dx1</th><th>color</th><th>dcolor</th><th>3rdvar</th><th>d3rdvar</th><th>cov_m_s</th><th>cov_m_c</th><th>cov_s_c</th><th>set</th><th>ra</th><th>dec</th><th>biascor</th></tr></thead>\n",
              "<thead><tr><th>str9</th><th>float64</th><th>float64</th><th>float64</th><th>float64</th><th>float64</th><th>float64</th><th>float64</th><th>float64</th><th>float64</th><th>float64</th><th>float64</th><th>float64</th><th>float64</th><th>float64</th><th>int64</th><th>float64</th><th>float64</th><th>float64</th></tr></thead>\n",
              "<tr><td>03D1au</td><td>0.503084</td><td>0.5043</td><td>0.0</td><td>23.001698</td><td>0.088031</td><td>1.273191</td><td>0.150058</td><td>-0.012353</td><td>0.030011</td><td>9.517</td><td>0.1105</td><td>0.00079</td><td>0.00044</td><td>-3e-05</td><td>1</td><td>36.04321</td><td>-4.037469</td><td>0.001697</td></tr>\n",
              "<tr><td>03D1aw</td><td>0.580724</td><td>0.582</td><td>0.0</td><td>23.573937</td><td>0.090132</td><td>0.974346</td><td>0.273823</td><td>-0.025076</td><td>0.036691</td><td>9.169</td><td>0.088</td><td>0.002823</td><td>0.000415</td><td>0.001574</td><td>1</td><td>36.061634</td><td>-4.517158</td><td>0.000843</td></tr>\n",
              "<tr><td>03D1ax</td><td>0.494795</td><td>0.496</td><td>0.0</td><td>22.960139</td><td>0.08811</td><td>-0.728837</td><td>0.102069</td><td>-0.099683</td><td>0.030305</td><td>11.58</td><td>0.1125</td><td>0.000542</td><td>0.000475</td><td>-2.4e-05</td><td>1</td><td>36.097287</td><td>-4.720774</td><td>0.001692</td></tr>\n",
              "<tr><td>03D1bp</td><td>0.345928</td><td>0.347</td><td>0.0</td><td>22.398137</td><td>0.087263</td><td>-1.15511</td><td>0.112834</td><td>-0.040581</td><td>0.026679</td><td>10.821</td><td>0.1235</td><td>0.001114</td><td>0.000616</td><td>0.000295</td><td>1</td><td>36.657235</td><td>-4.838779</td><td>-0.00027</td></tr>\n",
              "<tr><td>03D1co</td><td>0.677662</td><td>0.679</td><td>0.0</td><td>24.078115</td><td>0.098356</td><td>0.61882</td><td>0.404295</td><td>-0.03938</td><td>0.067403</td><td>8.647</td><td>0.284</td><td>0.011857</td><td>0.00078</td><td>0.005898</td><td>1</td><td>36.567748</td><td>-4.93505</td><td>-0.002855</td></tr>\n",
              "<tr><td>03D1dt</td><td>0.610712</td><td>0.612</td><td>0.0</td><td>23.285241</td><td>0.092877</td><td>-1.161563</td><td>1.641345</td><td>-0.094943</td><td>0.049652</td><td>9.715</td><td>0.092</td><td>0.029671</td><td>0.000947</td><td>0.044357</td><td>1</td><td>36.629968</td><td>-4.052341</td><td>2.6e-05</td></tr>\n",
              "<tr><td>03D1ew</td><td>0.866494</td><td>0.868</td><td>0.0</td><td>24.353678</td><td>0.106037</td><td>0.376409</td><td>0.348004</td><td>-0.063269</td><td>0.067817</td><td>8.53</td><td>0.805</td><td>0.003181</td><td>-0.001601</td><td>0.004093</td><td>1</td><td>36.058795</td><td>-4.665852</td><td>-0.017996</td></tr>\n",
              "<tr><td>03D1fc</td><td>0.330932</td><td>0.332</td><td>0.0</td><td>21.861412</td><td>0.086437</td><td>0.650394</td><td>0.118542</td><td>-0.017577</td><td>0.023794</td><td>10.391</td><td>0.036</td><td>0.001006</td><td>0.000527</td><td>0.00054</td><td>1</td><td>36.431648</td><td>-4.144059</td><td>-0.000526</td></tr>\n",
              "<tr><td>03D1fq</td><td>0.798566</td><td>0.8</td><td>0.0</td><td>24.510389</td><td>0.101777</td><td>-1.056666</td><td>0.406837</td><td>-0.055975</td><td>0.064955</td><td>10.651</td><td>0.127</td><td>0.005897</td><td>-0.001115</td><td>0.003551</td><td>1</td><td>36.731935</td><td>-4.302217</td><td>-0.011577</td></tr>\n",
              "<tr><td>03D3aw</td><td>0.449562</td><td>0.449</td><td>0.0</td><td>22.667126</td><td>0.091912</td><td>0.810113</td><td>0.232169</td><td>-0.085962</td><td>0.038205</td><td>10.695</td><td>0.034</td><td>0.005474</td><td>0.000792</td><td>0.000662</td><td>1</td><td>215.223049</td><td>52.605624</td><td>0.0014</td></tr>\n",
              "<tr><td>...</td><td>...</td><td>...</td><td>...</td><td>...</td><td>...</td><td>...</td><td>...</td><td>...</td><td>...</td><td>...</td><td>...</td><td>...</td><td>...</td><td>...</td><td>...</td><td>...</td><td>...</td><td>...</td></tr>\n",
              "<tr><td>sn2006td</td><td>0.015999</td><td>0.015878</td><td>0.000962</td><td>15.719765</td><td>0.153171</td><td>-1.32107</td><td>0.107517</td><td>0.090393</td><td>0.027021</td><td>9.509744</td><td>0.280891</td><td>-0.000293</td><td>0.000709</td><td>-0.000192</td><td>3</td><td>29.56567</td><td>36.34938</td><td>-0.008645</td></tr>\n",
              "<tr><td>sn2007ae</td><td>0.062961</td><td>0.064388</td><td>-0.001283</td><td>17.798492</td><td>0.140212</td><td>1.849266</td><td>0.29274</td><td>-0.009638</td><td>0.031145</td><td>11.32</td><td>0.107</td><td>-0.002291</td><td>0.000916</td><td>-0.000308</td><td>3</td><td>255.46695</td><td>79.03174</td><td>-0.020277</td></tr>\n",
              "<tr><td>sn2007bc</td><td>0.021706</td><td>0.020771</td><td>-0.000177</td><td>15.90219</td><td>0.146331</td><td>-1.223772</td><td>0.080538</td><td>-0.014061</td><td>0.028612</td><td>10.814</td><td>0.165</td><td>8.9e-05</td><td>0.000766</td><td>-0.00016</td><td>3</td><td>169.81069</td><td>20.80896</td><td>-0.00912</td></tr>\n",
              "<tr><td>sn2007bd</td><td>0.031638</td><td>0.031018</td><td>-0.000344</td><td>16.58094</td><td>0.14121</td><td>-1.380962</td><td>0.064413</td><td>-0.047773</td><td>0.026743</td><td>10.736</td><td>0.13</td><td>-3e-06</td><td>0.000664</td><td>-0.000165</td><td>3</td><td>127.88906</td><td>-1.19937</td><td>-0.010566</td></tr>\n",
              "<tr><td>sn2007ci</td><td>0.018599</td><td>0.018126</td><td>-0.000635</td><td>15.89331</td><td>0.149282</td><td>-2.724319</td><td>0.099408</td><td>0.026802</td><td>0.028331</td><td>11.117</td><td>0.1485</td><td>0.000495</td><td>0.000755</td><td>0.000176</td><td>3</td><td>176.44105</td><td>19.77048</td><td>-0.008829</td></tr>\n",
              "<tr><td>sn2007co</td><td>0.027064</td><td>0.026962</td><td>0.000507</td><td>16.504006</td><td>0.141685</td><td>-0.137806</td><td>0.061153</td><td>0.105288</td><td>0.020382</td><td>10.519608</td><td>0.280891</td><td>9.5e-05</td><td>0.000377</td><td>7e-06</td><td>3</td><td>275.765</td><td>29.89705</td><td>-0.009803</td></tr>\n",
              "<tr><td>sn2007cq</td><td>0.025468</td><td>0.025918</td><td>0.000773</td><td>15.797848</td><td>0.143429</td><td>-0.657941</td><td>0.115645</td><td>-0.060805</td><td>0.02582</td><td>9.704507</td><td>0.280891</td><td>0.000392</td><td>0.000639</td><td>7.5e-05</td><td>3</td><td>333.66843</td><td>5.08016</td><td>-0.009575</td></tr>\n",
              "<tr><td>sn2007f</td><td>0.02381</td><td>0.02359</td><td>-0.000365</td><td>15.895501</td><td>0.144315</td><td>0.618766</td><td>0.0414</td><td>-0.055411</td><td>0.026006</td><td>10.027</td><td>0.1185</td><td>-5.5e-05</td><td>0.000645</td><td>-0.00018</td><td>3</td><td>195.81275</td><td>50.61876</td><td>-0.009361</td></tr>\n",
              "<tr><td>sn2007qe</td><td>0.023867</td><td>0.024</td><td>0.001031</td><td>16.068268</td><td>0.14435</td><td>0.760605</td><td>0.04565</td><td>0.052186</td><td>0.0262</td><td>6.0</td><td>5.0</td><td>0.000101</td><td>0.000654</td><td>-7.6e-05</td><td>3</td><td>358.55399</td><td>27.40917</td><td>-0.009368</td></tr>\n",
              "<tr><td>sn2008bf</td><td>0.022068</td><td>0.021275</td><td>-0.000296</td><td>15.71854</td><td>0.144685</td><td>0.430639</td><td>0.068523</td><td>-0.038367</td><td>0.021262</td><td>11.212</td><td>0.1565</td><td>0.000136</td><td>0.000409</td><td>-0.000104</td><td>3</td><td>181.01199</td><td>20.24508</td><td>-0.009159</td></tr>\n",
              "</table></div>"
            ]
          },
          "metadata": {},
          "execution_count": 5
        }
      ]
    },
    {
      "cell_type": "code",
      "source": [
        "data.colnames"
      ],
      "metadata": {
        "cell_id": "bf4f29ed17844ce4956870506376759e",
        "deepnote_cell_type": "code",
        "colab": {
          "base_uri": "https://localhost:8080/"
        },
        "id": "G15WhwadJlLr",
        "outputId": "40c92db9-de1f-4475-92b8-1bd32f855ea2"
      },
      "outputs": [
        {
          "output_type": "execute_result",
          "data": {
            "text/plain": [
              "['name',\n",
              " 'zcmb',\n",
              " 'zhel',\n",
              " 'dz',\n",
              " 'mb',\n",
              " 'dmb',\n",
              " 'x1',\n",
              " 'dx1',\n",
              " 'color',\n",
              " 'dcolor',\n",
              " '3rdvar',\n",
              " 'd3rdvar',\n",
              " 'cov_m_s',\n",
              " 'cov_m_c',\n",
              " 'cov_s_c',\n",
              " 'set',\n",
              " 'ra',\n",
              " 'dec',\n",
              " 'biascor']"
            ]
          },
          "metadata": {},
          "execution_count": 6
        }
      ],
      "execution_count": 6
    },
    {
      "cell_type": "markdown",
      "source": [
        "For each SN there is a set of values that are fit to the lightcurve. This is a highly dimenz=sional space ofr a fit! (note: normally tmax date of maximum is also fit...)\n",
        "\n",
        "*name*: name of the SN, NOT A PARAMETER\n",
        "\n",
        "*zcmb*: CMB frame redshift (including peculiar velocity corrections for nearby supernova based on the models of M.J. Hudson)\n",
        "\n",
        "_zhel_: Heliocentric redshift (note both zcmb and zhel are needed to compute the luminosity distance)\n",
        "\n",
        "_dz_: redshift error ALL d-quantities are errors on fit quantities\n",
        "\n",
        "_mb_: B band peak magnitude\n",
        "\n",
        "_dmb_: Error in mb (includes contributions from intrinsic dispersion, lensing, and redshift uncertainty)\n",
        "\n",
        "_x1_: SALT2 shape parameter \n",
        "_dx1_: Error in shape parameter\n",
        "\n",
        "_colour_: Colour parameter\n",
        "_dcolour_: Error in colour\n",
        "\n",
        "_3rdvar_: In these files, the log_10 host stellar mass\n",
        "_d3rdvar_: Error in 3rdvar\n",
        "\n",
        "*cov_m_s*: The covariance between mb and x1\n",
        "\n",
        "*cov_m_c*: The covariance between mb and colour\n",
        "\n",
        "*cov_s_c*: The covariance between x1 and colour\n",
        "\n",
        "*set*: A number indicating which sample this SN belongs to, NOT A PARAMETER with\n",
        "\n",
        "     1 - SNLS, \n",
        "     2 - SDSS, \n",
        "     3 - low-z, \n",
        "     4 - Riess HST\n",
        "\n",
        "_ra_: Right Ascension in degree (J2000), NOT A PARAMETER\n",
        "\n",
        "_dec_: Declination in degree (J2000), NOT A PARAMETER\n",
        "\n",
        "_biascor_: The correction for analysis bias applied to measured magnitudes (this correction is already applied to mb, original measurements can be obtained by subtracting this term to mb), NOT A PARAMETER"
      ],
      "metadata": {
        "id": "5c9byGn4LZ3Y"
      }
    },
    {
      "cell_type": "markdown",
      "source": [
        "## The Chi2 Method\n",
        "\n",
        "an introduction of the \"property\" and \"setter\" decorators\n",
        "\n",
        "decorators are kind-of functions of function.\n",
        " \n",
        "Check e.g., http://thecodeship.com/patterns/guide-to-python-function-decorators/"
      ],
      "metadata": {
        "cell_id": "74d2d3ccc9514e609a708ed25303ea42",
        "deepnote_cell_type": "markdown",
        "id": "d1wQH6tNJlLr"
      }
    },
    {
      "cell_type": "code",
      "source": [
        "# copy paste of a class build before\n",
        "\n",
        "class Chi2Fit( object ):\n",
        "    \n",
        "    def __init__(self, jla_data=None):\n",
        "        \"\"\" init the class\n",
        "        \n",
        "        Parameters:\n",
        "        -----------\n",
        "        jla_data: [astropy.table]\n",
        "            Astropy Table containing the Supernovae properties\n",
        "            (zcmb, mb, x1, color etc.)\n",
        "        \n",
        "        Return\n",
        "        ------\n",
        "        Void\n",
        "        \"\"\"\n",
        "        if jla_data is not None:\n",
        "            self.set_data(jla_data)\n",
        "\n",
        "    # ------------------- #\n",
        "    #   Setter            #\n",
        "    # ------------------- #        \n",
        "    def set_data(self, datatable):\n",
        "        \"\"\" Set the data of the class. This must be an astropy table \"\"\"\n",
        "        # use this tricks to forbid the user to overwrite self.data...\n",
        "        self._data = datatable\n",
        "\n",
        "    def setup(self, parameters):\n",
        "        \"\"\" Set the parameters of the class: \n",
        "        - alpha #\n",
        "        - beta #\n",
        "        - Om # Omega Matter\n",
        "        - M0 # \n",
        "        \"\"\"\n",
        "        self._parameters = parameters  \n",
        "        \n",
        "    # ------------------- #\n",
        "    #   GETTER            #\n",
        "    # ------------------- #\n",
        "    def get_mbcorr(self, parameters):\n",
        "        \"\"\" corrected sn magnitude with its associated variance\"\"\"\n",
        "        return self.mb - (self.x1*parameters[0] + self.color*parameters[1]),\\\n",
        "            self.mb_err**2 + (self.x1*parameters[0])**2 + (self.color*parameters[1])**2\n",
        "    \n",
        "    def get_mbexp(self, parameters, z=None):\n",
        "        \"\"\" corrected sn magnitude with its associated error\"\"\"\n",
        "        zused = z if z is not None else self.zcmb\n",
        "        return cosmology.FlatLambdaCDM(70, parameters[2]).distmod(zused ).value + parameters[3]\n",
        "        \n",
        "    \n",
        "    def fit(self, guess):\n",
        "        \"\"\" fit the model to the data \n",
        "        \n",
        "        The methods uses scipy.optimize.minize to fit the model \n",
        "        to the data. The fit output is saved as self.fitout, the \n",
        "        best fit parameters being self.fitout[\"x\"]\n",
        "        \n",
        "        Parameters\n",
        "        ----------\n",
        "        guess: [array]\n",
        "            initial guess for the minimizer. It's size must correspond\n",
        "            to the amount of free parameters of the model.\n",
        "            \n",
        "        Return\n",
        "        ------\n",
        "        Void (create self.fitout)\n",
        "        \"\"\"\n",
        "        from scipy.optimize import minimize\n",
        "        bounds = [[None, None], [None, None], [0, None], [None, None]]\n",
        "        self.fitout = minimize(self.chi2, guess, bounds=bounds)\n",
        "        print(self.fitout)\n",
        "        self._bestfitparameters = self.fitout[\"x\"]\n",
        " \n",
        "    def chi2(self,parameters):\n",
        "        \"\"\" The chi2 of the model with the given `parameters` \n",
        "        in comparison to the object's data \n",
        "        \n",
        "        Return\n",
        "        ------\n",
        "        float (the chi2)\n",
        "        \"\"\"\n",
        "        \"\"\" KNOWING chi2 is Sum_i(model_i - data_i)^2 / variance_i\n",
        "        AND THAT THE FUNCTION self.get_mbcorr(parameters) \n",
        "        GIVES YOU THE MODEL AND THE VARIANCE YOU NEED, \n",
        "        WHAT IS THE FUNCTION YOU WANT OT MINIMIZE? \n",
        "        SET THE RETURN VALUE OF THIS FUNCTION TO IT\"\"\"\n",
        "        mbcorr, mbcorr_var = self.get_mbcorr(parameters)\n",
        "        mb_exp = self.get_mbexp(parameters)\n",
        "        chi2 = ((mbcorr-mb_exp)**2)/(mbcorr_var)\n",
        "        \n",
        "        return np.sum(chi2)\n",
        "    \n",
        "    def plot(self, parameters):\n",
        "        \"\"\" Vizualize the data and the model for the given\n",
        "        parameters\n",
        "        \n",
        "        Return\n",
        "        ------\n",
        "        Void\n",
        "        \"\"\"\n",
        "        fig = mpl.figure()\n",
        "        ax = fig.add_subplot(1,1,1)\n",
        "        \n",
        "        self.setup(parameters)\n",
        "        set_colors = {\n",
        "            1: \"SteelBlue\",\n",
        "            2: \"green\",\n",
        "            3: \"IndianRed\",\n",
        "            4: \"gold\",\n",
        "        }\n",
        "        set_names = {\n",
        "            1:\"SNLS\", \n",
        "            2:\"SDSS\", \n",
        "            3:\"low-z\", \n",
        "            4:\"Riess HST\"\n",
        "        }\n",
        "        for eachset in set(self.sample):\n",
        "      \n",
        "            ax.errorbar(self.zcmb[self.sample == eachset], self.setted_mbcorr[self.sample == eachset], # plotting corrected hubble residuals\n",
        "                    yerr=self.setted_mbcorr_err[self.sample == eachset], \n",
        "                    ls=\"None\", marker='o', color=set_colors[eachset], alpha=0.5,\n",
        "                    ecolor=\"0.7\", label=set_names[eachset])\n",
        "        x = np.linspace(0.001,1.4,10000)\n",
        "            #print self.get_cosmo_distmod(parameters,x)\n",
        "        ax.plot(x, self.get_mbexp(self._parameters, x), '--r', scalex=False, scaley=False)\n",
        "        \"\"\" WHAT ARE THE RIGHT LABELS?\"\"\"\n",
        "        ax.set_xlabel(\"z (CMB)\")\n",
        "        ax.set_ylabel(\"distance modulus\")\n",
        "        mpl.legend()\n",
        "        fig.show()\n",
        "\n",
        "        # LOG X\n",
        "        fig = mpl.figure()\n",
        "        ax = fig.add_subplot(1,1,1)\n",
        "        \n",
        "        self.setup(parameters)\n",
        "        \n",
        "        for eachset in set(self.sample):\n",
        "      \n",
        "            ax.errorbar(self.zcmb[self.sample == eachset], self.setted_mbcorr[self.sample == eachset], # plotting corrected hubble residuals\n",
        "                    yerr=self.setted_mbcorr_err[self.sample == eachset], \n",
        "                    ls=\"None\", marker='o', color=set_colors[eachset], alpha=0.5,\n",
        "                    ecolor=\"0.7\", label=set_names[eachset])\n",
        "        x = np.linspace(0.001,1.4,10000)\n",
        "            #print self.get_cosmo_distmod(parameters,x)\n",
        "        ax.plot(x, self.get_mbexp(self._parameters, x), '--r', scalex=False, scaley=False)\n",
        "        \"\"\" WHAT ARE THE RIGHT LABELS?\"\"\"\n",
        "        ax.set_xlabel(\"z (CMB)\")\n",
        "        ax.set_ylabel(\"distance modulus\")\n",
        "        ax.set_xscale('log')\n",
        "        fig.show()\n",
        "        \n",
        "        \n",
        "    # ================== #\n",
        "    #  Properties        #\n",
        "    # ================== #\n",
        "    @property\n",
        "    def data(self):\n",
        "        \"\"\" Data table containing the data of the instance \"\"\"\n",
        "        return self._data\n",
        "\n",
        "    @data.setter\n",
        "    def data(self, newdata):\n",
        "        \"\"\" Set the data \"\"\"\n",
        "        # add all the relevant tests\n",
        "        print(\"You have set new data\")\n",
        "        self._data = newdata\n",
        "    \n",
        "    @property\n",
        "    def npoints(self):\n",
        "        \"\"\" number of data points \"\"\"\n",
        "        return len(self.data)\n",
        "    \n",
        "    # ----------\n",
        "    # - Parameters\n",
        "    \n",
        "    @property\n",
        "    def parameters(self):\n",
        "        \"\"\" Current parameters of the fit \"\"\"\n",
        "        if not self.has_parameters():\n",
        "            raise ValueError(\"No Parameters defined. See the self.setup() method\")\n",
        "        return self._parameters\n",
        "    \n",
        "    def has_parameters(self):\n",
        "        return \"_parameters\" in dir(self)\n",
        "    \n",
        "    \n",
        "    \n",
        "    \n",
        "    # -- Current Param prop\n",
        "    @property\n",
        "    def _alpha(self):\n",
        "        return self._parameters[0]\n",
        "    @property\n",
        "    def _beta(self):\n",
        "        return self._parameters[1]\n",
        "    @property\n",
        "    def _omegam(self):\n",
        "        return self._parameters[2]\n",
        "    @property\n",
        "    def _M0(self):\n",
        "        return self._parameters[3]\n",
        "    \n",
        "    # -------\n",
        "    # -- Param derived properties\n",
        "    @property\n",
        "    def setted_mbcorr(self):\n",
        "        \"\"\" corrected hubble residuals\"\"\"\n",
        "        return self.get_mbcorr(self.parameters)[0]\n",
        "    @property\n",
        "    def setted_mbcorr_err(self):\n",
        "        \"\"\" corrected hubble residuals\"\"\"\n",
        "        return np.sqrt(self.get_mbcorr(self.parameters)[1])\n",
        "    \n",
        "    @property\n",
        "    def setted_mu(self):\n",
        "        \"\"\" distance modulus for the given cosmology \"\"\"\n",
        "        return cosmology.FlatLambdaCDM(70, _omegam).distmod(self.zcmb).value\n",
        "    \n",
        "    @property\n",
        "    def setted_M0(self):\n",
        "        \"\"\" absolute SN magnitude for the setted parameters \"\"\"\n",
        "        return self._M0\n",
        "    \n",
        "    @property\n",
        "    def setted_mbexp(self):\n",
        "        return self.setted_mu + self._M0\n",
        "    # -------\n",
        "    # -- Data derived properties\n",
        "    @property\n",
        "    def mb(self):\n",
        "        \"\"\" observed magnitude (in the b-band) of the Supernovae \"\"\"\n",
        "        return self.data[\"mb\"]\n",
        "    \n",
        "    @property\n",
        "    def mb_err(self):\n",
        "        \"\"\" observed magnitude (in the b-band) of the Supernovae \"\"\"\n",
        "        return self.data[\"dmb\"]\n",
        "    \n",
        "    @property\n",
        "    def x1(self):\n",
        "        \"\"\" Lightcurve stretch \"\"\"\n",
        "        return self.data[\"x1\"]\n",
        "    \n",
        "    @property\n",
        "    def x1_err(self):\n",
        "        \"\"\" errors on the Lightcurve stretch \"\"\"\n",
        "        return self.data[\"dx1\"]\n",
        "        \n",
        "    @property\n",
        "    def color(self):\n",
        "        \"\"\" Lightcurve color \"\"\"\n",
        "        return self.data[\"color\"]\n",
        "    \n",
        "    @property\n",
        "    def color_err(self):\n",
        "        \"\"\" errors on the Lightcurve color \"\"\"\n",
        "        return self.data[\"dcolor\"]\n",
        "    \n",
        "    @property\n",
        "    def zcmb(self):\n",
        "        \"\"\" cosmological redshift of the Supenovae \"\"\"\n",
        "        return self.data[\"zcmb\"]\n",
        "\n",
        "    @property\n",
        "    def sample(self):\n",
        "        \"\"\" observed magnitude (in the b-band) of the Supernovae \"\"\"\n",
        "        return self.data[\"set\"]\n",
        "    \n",
        "    \n",
        "    "
      ],
      "metadata": {
        "cell_id": "5c48a2d8bc7143eb82a118802cddcd30",
        "collapsed": true,
        "deepnote_cell_type": "code",
        "id": "eQ5hmfwRJlLs",
        "colab": {
          "base_uri": "https://localhost:8080/",
          "height": 132
        },
        "outputId": "ffefac28-75ec-4fa6-b137-6aa5016973a3"
      },
      "outputs": [
        {
          "output_type": "error",
          "ename": "SyntaxError",
          "evalue": "ignored",
          "traceback": [
            "\u001b[0;36m  File \u001b[0;32m\"<ipython-input-7-4681b3ac641d>\"\u001b[0;36m, line \u001b[0;32m72\u001b[0m\n\u001b[0;31m    LOOK AT THE DOCUMENTATION FOR SCIPY MINIMIZE AND SEE IF YOU CAN FIGURE OUT HOW TO USE IT TO\u001b[0m\n\u001b[0m         ^\u001b[0m\n\u001b[0;31mSyntaxError\u001b[0m\u001b[0;31m:\u001b[0m invalid syntax\n"
          ]
        }
      ],
      "execution_count": 7
    },
    {
      "cell_type": "code",
      "source": [
        "c = Chi2Fit(data)"
      ],
      "metadata": {
        "cell_id": "afaacb96b2fa465d915f3392143f032e",
        "deepnote_cell_type": "code",
        "id": "VeatqnCMJlLs"
      },
      "outputs": [],
      "execution_count": null
    },
    {
      "cell_type": "code",
      "source": [
        "alphapar = -0.18980149\n",
        "betapar = 3.65435315\n",
        "OmegaM = 0.32575054\n",
        "MagZP = -19.06810566\n",
        "\n",
        "c.setup([ alphapar, betapar, OmegaM, MagZP])"
      ],
      "metadata": {
        "cell_id": "c3f0ac15cb24401e98bc59ec9f75fe52",
        "deepnote_cell_type": "code",
        "id": "JAOtrKUqJlLu"
      },
      "outputs": [],
      "execution_count": null
    },
    {
      "cell_type": "code",
      "source": [
        "c.data"
      ],
      "metadata": {
        "colab": {
          "base_uri": "https://localhost:8080/",
          "height": 543
        },
        "id": "sNliR0g2LOTT",
        "outputId": "c069876c-da41-43ec-8b30-46f3d70e8e19"
      },
      "execution_count": null,
      "outputs": [
        {
          "output_type": "execute_result",
          "data": {
            "text/plain": [
              "<Table length=740>\n",
              "  name     zcmb     zhel       dz    ...  set      ra        dec     biascor \n",
              "  str9   float64  float64   float64  ... int64  float64    float64   float64 \n",
              "-------- -------- -------- --------- ... ----- ---------- --------- ---------\n",
              "  03D1au 0.503084   0.5043       0.0 ...     1   36.04321 -4.037469  0.001697\n",
              "  03D1aw 0.580724    0.582       0.0 ...     1  36.061634 -4.517158  0.000843\n",
              "  03D1ax 0.494795    0.496       0.0 ...     1  36.097287 -4.720774  0.001692\n",
              "  03D1bp 0.345928    0.347       0.0 ...     1  36.657235 -4.838779  -0.00027\n",
              "  03D1co 0.677662    0.679       0.0 ...     1  36.567748  -4.93505 -0.002855\n",
              "  03D1dt 0.610712    0.612       0.0 ...     1  36.629968 -4.052341   2.6e-05\n",
              "  03D1ew 0.866494    0.868       0.0 ...     1  36.058795 -4.665852 -0.017996\n",
              "  03D1fc 0.330932    0.332       0.0 ...     1  36.431648 -4.144059 -0.000526\n",
              "  03D1fq 0.798566      0.8       0.0 ...     1  36.731935 -4.302217 -0.011577\n",
              "  03D3aw 0.449562    0.449       0.0 ...     1 215.223049 52.605624    0.0014\n",
              "     ...      ...      ...       ... ...   ...        ...       ...       ...\n",
              "sn2006td 0.015999 0.015878  0.000962 ...     3   29.56567  36.34938 -0.008645\n",
              "sn2007ae 0.062961 0.064388 -0.001283 ...     3  255.46695  79.03174 -0.020277\n",
              "sn2007bc 0.021706 0.020771 -0.000177 ...     3  169.81069  20.80896  -0.00912\n",
              "sn2007bd 0.031638 0.031018 -0.000344 ...     3  127.88906  -1.19937 -0.010566\n",
              "sn2007ci 0.018599 0.018126 -0.000635 ...     3  176.44105  19.77048 -0.008829\n",
              "sn2007co 0.027064 0.026962  0.000507 ...     3    275.765  29.89705 -0.009803\n",
              "sn2007cq 0.025468 0.025918  0.000773 ...     3  333.66843   5.08016 -0.009575\n",
              " sn2007f  0.02381  0.02359 -0.000365 ...     3  195.81275  50.61876 -0.009361\n",
              "sn2007qe 0.023867    0.024  0.001031 ...     3  358.55399  27.40917 -0.009368\n",
              "sn2008bf 0.022068 0.021275 -0.000296 ...     3  181.01199  20.24508 -0.009159"
            ],
            "text/html": [
              "<div><i>Table length=740</i>\n",
              "<table id=\"table140228114823824\" class=\"table-striped table-bordered table-condensed\">\n",
              "<thead><tr><th>name</th><th>zcmb</th><th>zhel</th><th>dz</th><th>mb</th><th>dmb</th><th>x1</th><th>dx1</th><th>color</th><th>dcolor</th><th>3rdvar</th><th>d3rdvar</th><th>cov_m_s</th><th>cov_m_c</th><th>cov_s_c</th><th>set</th><th>ra</th><th>dec</th><th>biascor</th></tr></thead>\n",
              "<thead><tr><th>str9</th><th>float64</th><th>float64</th><th>float64</th><th>float64</th><th>float64</th><th>float64</th><th>float64</th><th>float64</th><th>float64</th><th>float64</th><th>float64</th><th>float64</th><th>float64</th><th>float64</th><th>int64</th><th>float64</th><th>float64</th><th>float64</th></tr></thead>\n",
              "<tr><td>03D1au</td><td>0.503084</td><td>0.5043</td><td>0.0</td><td>23.001698</td><td>0.088031</td><td>1.273191</td><td>0.150058</td><td>-0.012353</td><td>0.030011</td><td>9.517</td><td>0.1105</td><td>0.00079</td><td>0.00044</td><td>-3e-05</td><td>1</td><td>36.04321</td><td>-4.037469</td><td>0.001697</td></tr>\n",
              "<tr><td>03D1aw</td><td>0.580724</td><td>0.582</td><td>0.0</td><td>23.573937</td><td>0.090132</td><td>0.974346</td><td>0.273823</td><td>-0.025076</td><td>0.036691</td><td>9.169</td><td>0.088</td><td>0.002823</td><td>0.000415</td><td>0.001574</td><td>1</td><td>36.061634</td><td>-4.517158</td><td>0.000843</td></tr>\n",
              "<tr><td>03D1ax</td><td>0.494795</td><td>0.496</td><td>0.0</td><td>22.960139</td><td>0.08811</td><td>-0.728837</td><td>0.102069</td><td>-0.099683</td><td>0.030305</td><td>11.58</td><td>0.1125</td><td>0.000542</td><td>0.000475</td><td>-2.4e-05</td><td>1</td><td>36.097287</td><td>-4.720774</td><td>0.001692</td></tr>\n",
              "<tr><td>03D1bp</td><td>0.345928</td><td>0.347</td><td>0.0</td><td>22.398137</td><td>0.087263</td><td>-1.15511</td><td>0.112834</td><td>-0.040581</td><td>0.026679</td><td>10.821</td><td>0.1235</td><td>0.001114</td><td>0.000616</td><td>0.000295</td><td>1</td><td>36.657235</td><td>-4.838779</td><td>-0.00027</td></tr>\n",
              "<tr><td>03D1co</td><td>0.677662</td><td>0.679</td><td>0.0</td><td>24.078115</td><td>0.098356</td><td>0.61882</td><td>0.404295</td><td>-0.03938</td><td>0.067403</td><td>8.647</td><td>0.284</td><td>0.011857</td><td>0.00078</td><td>0.005898</td><td>1</td><td>36.567748</td><td>-4.93505</td><td>-0.002855</td></tr>\n",
              "<tr><td>03D1dt</td><td>0.610712</td><td>0.612</td><td>0.0</td><td>23.285241</td><td>0.092877</td><td>-1.161563</td><td>1.641345</td><td>-0.094943</td><td>0.049652</td><td>9.715</td><td>0.092</td><td>0.029671</td><td>0.000947</td><td>0.044357</td><td>1</td><td>36.629968</td><td>-4.052341</td><td>2.6e-05</td></tr>\n",
              "<tr><td>03D1ew</td><td>0.866494</td><td>0.868</td><td>0.0</td><td>24.353678</td><td>0.106037</td><td>0.376409</td><td>0.348004</td><td>-0.063269</td><td>0.067817</td><td>8.53</td><td>0.805</td><td>0.003181</td><td>-0.001601</td><td>0.004093</td><td>1</td><td>36.058795</td><td>-4.665852</td><td>-0.017996</td></tr>\n",
              "<tr><td>03D1fc</td><td>0.330932</td><td>0.332</td><td>0.0</td><td>21.861412</td><td>0.086437</td><td>0.650394</td><td>0.118542</td><td>-0.017577</td><td>0.023794</td><td>10.391</td><td>0.036</td><td>0.001006</td><td>0.000527</td><td>0.00054</td><td>1</td><td>36.431648</td><td>-4.144059</td><td>-0.000526</td></tr>\n",
              "<tr><td>03D1fq</td><td>0.798566</td><td>0.8</td><td>0.0</td><td>24.510389</td><td>0.101777</td><td>-1.056666</td><td>0.406837</td><td>-0.055975</td><td>0.064955</td><td>10.651</td><td>0.127</td><td>0.005897</td><td>-0.001115</td><td>0.003551</td><td>1</td><td>36.731935</td><td>-4.302217</td><td>-0.011577</td></tr>\n",
              "<tr><td>03D3aw</td><td>0.449562</td><td>0.449</td><td>0.0</td><td>22.667126</td><td>0.091912</td><td>0.810113</td><td>0.232169</td><td>-0.085962</td><td>0.038205</td><td>10.695</td><td>0.034</td><td>0.005474</td><td>0.000792</td><td>0.000662</td><td>1</td><td>215.223049</td><td>52.605624</td><td>0.0014</td></tr>\n",
              "<tr><td>...</td><td>...</td><td>...</td><td>...</td><td>...</td><td>...</td><td>...</td><td>...</td><td>...</td><td>...</td><td>...</td><td>...</td><td>...</td><td>...</td><td>...</td><td>...</td><td>...</td><td>...</td><td>...</td></tr>\n",
              "<tr><td>sn2006td</td><td>0.015999</td><td>0.015878</td><td>0.000962</td><td>15.719765</td><td>0.153171</td><td>-1.32107</td><td>0.107517</td><td>0.090393</td><td>0.027021</td><td>9.509744</td><td>0.280891</td><td>-0.000293</td><td>0.000709</td><td>-0.000192</td><td>3</td><td>29.56567</td><td>36.34938</td><td>-0.008645</td></tr>\n",
              "<tr><td>sn2007ae</td><td>0.062961</td><td>0.064388</td><td>-0.001283</td><td>17.798492</td><td>0.140212</td><td>1.849266</td><td>0.29274</td><td>-0.009638</td><td>0.031145</td><td>11.32</td><td>0.107</td><td>-0.002291</td><td>0.000916</td><td>-0.000308</td><td>3</td><td>255.46695</td><td>79.03174</td><td>-0.020277</td></tr>\n",
              "<tr><td>sn2007bc</td><td>0.021706</td><td>0.020771</td><td>-0.000177</td><td>15.90219</td><td>0.146331</td><td>-1.223772</td><td>0.080538</td><td>-0.014061</td><td>0.028612</td><td>10.814</td><td>0.165</td><td>8.9e-05</td><td>0.000766</td><td>-0.00016</td><td>3</td><td>169.81069</td><td>20.80896</td><td>-0.00912</td></tr>\n",
              "<tr><td>sn2007bd</td><td>0.031638</td><td>0.031018</td><td>-0.000344</td><td>16.58094</td><td>0.14121</td><td>-1.380962</td><td>0.064413</td><td>-0.047773</td><td>0.026743</td><td>10.736</td><td>0.13</td><td>-3e-06</td><td>0.000664</td><td>-0.000165</td><td>3</td><td>127.88906</td><td>-1.19937</td><td>-0.010566</td></tr>\n",
              "<tr><td>sn2007ci</td><td>0.018599</td><td>0.018126</td><td>-0.000635</td><td>15.89331</td><td>0.149282</td><td>-2.724319</td><td>0.099408</td><td>0.026802</td><td>0.028331</td><td>11.117</td><td>0.1485</td><td>0.000495</td><td>0.000755</td><td>0.000176</td><td>3</td><td>176.44105</td><td>19.77048</td><td>-0.008829</td></tr>\n",
              "<tr><td>sn2007co</td><td>0.027064</td><td>0.026962</td><td>0.000507</td><td>16.504006</td><td>0.141685</td><td>-0.137806</td><td>0.061153</td><td>0.105288</td><td>0.020382</td><td>10.519608</td><td>0.280891</td><td>9.5e-05</td><td>0.000377</td><td>7e-06</td><td>3</td><td>275.765</td><td>29.89705</td><td>-0.009803</td></tr>\n",
              "<tr><td>sn2007cq</td><td>0.025468</td><td>0.025918</td><td>0.000773</td><td>15.797848</td><td>0.143429</td><td>-0.657941</td><td>0.115645</td><td>-0.060805</td><td>0.02582</td><td>9.704507</td><td>0.280891</td><td>0.000392</td><td>0.000639</td><td>7.5e-05</td><td>3</td><td>333.66843</td><td>5.08016</td><td>-0.009575</td></tr>\n",
              "<tr><td>sn2007f</td><td>0.02381</td><td>0.02359</td><td>-0.000365</td><td>15.895501</td><td>0.144315</td><td>0.618766</td><td>0.0414</td><td>-0.055411</td><td>0.026006</td><td>10.027</td><td>0.1185</td><td>-5.5e-05</td><td>0.000645</td><td>-0.00018</td><td>3</td><td>195.81275</td><td>50.61876</td><td>-0.009361</td></tr>\n",
              "<tr><td>sn2007qe</td><td>0.023867</td><td>0.024</td><td>0.001031</td><td>16.068268</td><td>0.14435</td><td>0.760605</td><td>0.04565</td><td>0.052186</td><td>0.0262</td><td>6.0</td><td>5.0</td><td>0.000101</td><td>0.000654</td><td>-7.6e-05</td><td>3</td><td>358.55399</td><td>27.40917</td><td>-0.009368</td></tr>\n",
              "<tr><td>sn2008bf</td><td>0.022068</td><td>0.021275</td><td>-0.000296</td><td>15.71854</td><td>0.144685</td><td>0.430639</td><td>0.068523</td><td>-0.038367</td><td>0.021262</td><td>11.212</td><td>0.1565</td><td>0.000136</td><td>0.000409</td><td>-0.000104</td><td>3</td><td>181.01199</td><td>20.24508</td><td>-0.009159</td></tr>\n",
              "</table></div>"
            ]
          },
          "metadata": {},
          "execution_count": 104
        }
      ]
    },
    {
      "cell_type": "code",
      "source": [
        "c.setted_mbcorr # corrected apparent magnitude"
      ],
      "metadata": {
        "cell_id": "1f93cc88e3a54c3aacb4a0beac42c430",
        "deepnote_cell_type": "code",
        "colab": {
          "base_uri": "https://localhost:8080/",
          "height": 565
        },
        "id": "RscJpKkSJlLu",
        "outputId": "b7c8139e-e2ac-4d0d-f206-35d555d03101"
      },
      "outputs": [
        {
          "output_type": "execute_result",
          "data": {
            "text/plain": [
              "<Column name='mb' dtype='float64' length=740>\n",
              "23.288493773316542\n",
              "23.850505882164942\n",
              "23.186081536484323\n",
              " 22.32719270606625\n",
              "  24.3394763850888\n",
              "23.411729862991578\n",
              " 24.65632825849676\n",
              "22.049090315604612\n",
              " 24.51438463633891\n",
              " 23.13502215994867\n",
              " 22.58018597848116\n",
              " 21.68111153675342\n",
              "               ...\n",
              "16.948900557027788\n",
              " 15.91165950469283\n",
              " 15.13869600131775\n",
              " 18.18470609786604\n",
              "15.721300110621868\n",
              "16.493410767801567\n",
              "15.278286221438389\n",
              " 16.09309068141186\n",
              " 15.89517276115366\n",
              " 16.21543507115599\n",
              " 16.02192588881555\n",
              " 15.94048249115816"
            ],
            "text/html": [
              "&lt;Column name=&apos;mb&apos; dtype=&apos;float64&apos; length=740&gt;\n",
              "<table>\n",
              "<tr><td>23.288493773316542</td></tr>\n",
              "<tr><td>23.850505882164942</td></tr>\n",
              "<tr><td>23.186081536484323</td></tr>\n",
              "<tr><td>22.32719270606625</td></tr>\n",
              "<tr><td>24.3394763850888</td></tr>\n",
              "<tr><td>23.411729862991578</td></tr>\n",
              "<tr><td>24.65632825849676</td></tr>\n",
              "<tr><td>22.049090315604612</td></tr>\n",
              "<tr><td>24.51438463633891</td></tr>\n",
              "<tr><td>23.13502215994867</td></tr>\n",
              "<tr><td>22.58018597848116</td></tr>\n",
              "<tr><td>21.68111153675342</td></tr>\n",
              "<tr><td>...</td></tr>\n",
              "<tr><td>16.948900557027788</td></tr>\n",
              "<tr><td>15.91165950469283</td></tr>\n",
              "<tr><td>15.13869600131775</td></tr>\n",
              "<tr><td>18.18470609786604</td></tr>\n",
              "<tr><td>15.721300110621868</td></tr>\n",
              "<tr><td>16.493410767801567</td></tr>\n",
              "<tr><td>15.278286221438389</td></tr>\n",
              "<tr><td>16.09309068141186</td></tr>\n",
              "<tr><td>15.89517276115366</td></tr>\n",
              "<tr><td>16.21543507115599</td></tr>\n",
              "<tr><td>16.02192588881555</td></tr>\n",
              "<tr><td>15.94048249115816</td></tr>\n",
              "</table>"
            ]
          },
          "metadata": {},
          "execution_count": 105
        }
      ],
      "execution_count": null
    },
    {
      "cell_type": "code",
      "source": [
        "print(\"\"\"Which SN samples are used?\n",
        "     1 - SNLS, \n",
        "     2 - SDSS, \n",
        "     3 - low-z, \n",
        "     4 - Riess HST\n",
        "      \"\"\")\n",
        "set(c.data[\"set\"])"
      ],
      "metadata": {
        "colab": {
          "base_uri": "https://localhost:8080/"
        },
        "id": "H0cQ2SUFPxDb",
        "outputId": "9ed0d73c-564b-4d5f-a0bc-66625e118e78"
      },
      "execution_count": null,
      "outputs": [
        {
          "output_type": "stream",
          "name": "stdout",
          "text": [
            "Which SN samples are used?\n",
            "     1 - SNLS, \n",
            "     2 - SDSS, \n",
            "     3 - low-z, \n",
            "     4 - Riess HST\n",
            "      \n"
          ]
        },
        {
          "output_type": "execute_result",
          "data": {
            "text/plain": [
              "{1, 2, 3, 4}"
            ]
          },
          "metadata": {},
          "execution_count": 106
        }
      ]
    },
    {
      "cell_type": "code",
      "source": [
        "c.setted_M0 # Absolute Magnitude"
      ],
      "metadata": {
        "colab": {
          "base_uri": "https://localhost:8080/"
        },
        "id": "rSUvDJSNOKL-",
        "outputId": "21681a30-6aa1-44d7-b958-4e876c6e302a"
      },
      "execution_count": null,
      "outputs": [
        {
          "output_type": "execute_result",
          "data": {
            "text/plain": [
              "-19.06810566"
            ]
          },
          "metadata": {},
          "execution_count": 107
        }
      ]
    },
    {
      "cell_type": "markdown",
      "source": [
        "# FIT"
      ],
      "metadata": {
        "id": "AB4GdqtEUsnQ"
      }
    },
    {
      "cell_type": "code",
      "source": [
        "c.fit([0.13, 3, 0.2, -20]) # passing some initial parameters to the function that are not so great"
      ],
      "metadata": {
        "cell_id": "b59a136b04a34cebb3aba0344dddac5a",
        "deepnote_cell_type": "code",
        "colab": {
          "base_uri": "https://localhost:8080/"
        },
        "id": "YNKkDy6iJlLu",
        "outputId": "38016f15-46ba-49fb-9c3e-cadb8cfda0a4"
      },
      "outputs": [
        {
          "output_type": "stream",
          "name": "stdout",
          "text": [
            "  message: CONVERGENCE: REL_REDUCTION_OF_F_<=_FACTR*EPSMCH\n",
            "  success: True\n",
            "   status: 0\n",
            "      fun: 317.79735399748114\n",
            "        x: [-1.898e-01  3.654e+00  3.259e-01 -1.907e+01]\n",
            "      nit: 33\n",
            "      jac: [-4.150e-04  2.842e-05  0.000e+00 -1.177e-03]\n",
            "     nfev: 285\n",
            "     njev: 57\n",
            " hess_inv: <4x4 LbfgsInvHessProduct with dtype=float64>\n"
          ]
        }
      ],
      "execution_count": null
    },
    {
      "cell_type": "code",
      "source": [
        "print(\"BEST FIT PARAMS\")\n",
        "print(\"\"\"originally: \n",
        "alphapar = -0.18980149\n",
        "betapar = 3.65435315\n",
        "OmegaM = 0.32575054\n",
        "MagZP = -19.06810566\n",
        "\"\"\")\n",
        "\n",
        "print(\"\"\"initial guess:\n",
        "      \n",
        "      0.13, \n",
        "      3, \n",
        "      0.2, \n",
        "      -20\"\"\")\n",
        "\n",
        "print(c._bestfitparameters)\n"
      ],
      "metadata": {
        "colab": {
          "base_uri": "https://localhost:8080/"
        },
        "id": "GdQ1wNlGQYil",
        "outputId": "c908e5ca-0904-4878-8d53-3982e2d69576"
      },
      "execution_count": null,
      "outputs": [
        {
          "output_type": "stream",
          "name": "stdout",
          "text": [
            "BEST FIT PARAMS\n",
            "originally: \n",
            "alphapar = -0.18980149\n",
            "betapar = 3.65435315\n",
            "OmegaM = 0.32575054\n",
            "MagZP = -19.06810566\n",
            "\n",
            "initial guess:\n",
            "      \n",
            "      0.13, \n",
            "      3, \n",
            "      0.2, \n",
            "      -20\n",
            "[ -0.18980153   3.65434904   0.32590185 -19.0680978 ]\n"
          ]
        }
      ]
    },
    {
      "cell_type": "code",
      "source": [
        "c.plot(c._bestfitparameters)"
      ],
      "metadata": {
        "cell_id": "bf1c37dee2bf40edad4de81a238fc382",
        "deepnote_cell_type": "code",
        "colab": {
          "base_uri": "https://localhost:8080/",
          "height": 545
        },
        "id": "6OZ5i8UQJlLu",
        "outputId": "97bdbd39-3d25-4170-a0f6-c81457d55f33"
      },
      "outputs": [
        {
          "output_type": "display_data",
          "data": {
            "text/plain": [
              "<Figure size 432x288 with 1 Axes>"
            ],
            "image/png": "[encoded data removed]"
          },
          "metadata": {
            "needs_background": "light"
          }
        },
        {
          "output_type": "display_data",
          "data": {
            "text/plain": [
              "<Figure size 432x288 with 1 Axes>"
            ],
            "image/png": "[encoded data removed]"
          },
          "metadata": {
            "needs_background": "light"
          }
        }
      ],
      "execution_count": null
    },
    {
      "cell_type": "markdown",
      "source": [
        "# COMPARE WITH \n",
        "\n",
        "original nb https://supernovae.in2p3.fr/sdss_snls_jla/ReadMe.html\n",
        "\n",
        "see also https://notebook.community/EliseJ/astroABC/examples/supernovae foran MCMC solution"
      ],
      "metadata": {
        "id": "yqirVAIVJlLv"
      }
    },
    {
      "cell_type": "markdown",
      "source": [
        "<a style='text-decoration:none;line-height:16px;display:flex;color:#5B5B62;padding:10px;justify-content:end;' href='https://deepnote.com?utm_source=created-in-deepnote-cell&projectId=cd5d88a9-4330-4aa9-8029-ed5e4d98d510' target=\"_blank\">\n",
        "<img alt='Created in deepnote.com' style='display:inline;max-height:16px;margin:0px;margin-right:7.5px;' src='data:image/svg+xml;base64,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' > </img>\n",
        "Created in <span style='font-weight:600;margin-left:4px;'>Deepnote</span></a>"
      ],
      "metadata": {
        "tags": [],
        "created_in_deepnote_cell": true,
        "deepnote_cell_type": "markdown",
        "id": "t_Zs2GdmJlLv"
      }
    },
    {
      "cell_type": "code",
      "source": [],
      "metadata": {
        "id": "SiZtlbgObHvZ"
      },
      "execution_count": null,
      "outputs": []
    }
  ],
  "nbformat": 4,
  "nbformat_minor": 0,
  "metadata": {
    "deepnote": {},
    "kernelspec": {
      "name": "python2",
      "language": "python",
      "display_name": "Python 2"
    },
    "language_info": {
      "name": "python",
      "version": "2.7.11",
      "mimetype": "text/x-python",
      "file_extension": ".py",
      "pygments_lexer": "ipython2",
      "codemirror_mode": {
        "name": "ipython",
        "version": 2
      },
      "nbconvert_exporter": "python"
    },
    "deepnote_notebook_id": "d98b65d7a2a04367a97c86667a1acc8a",
    "deepnote_execution_queue": [],
    "colab": {
      "provenance": [],
      "include_colab_link": true
    }
  }
}
